{
 "cells": [
  {
   "cell_type": "code",
   "execution_count": 1,
   "id": "3703e61a-ed48-421a-a9ca-73d908af427b",
   "metadata": {},
   "outputs": [
    {
     "name": "stdout",
     "output_type": "stream",
     "text": [
      "Collecting mysql-connector-python\n",
      "  Downloading mysql_connector_python-9.0.0-cp38-cp38-win_amd64.whl.metadata (2.0 kB)\n",
      "Downloading mysql_connector_python-9.0.0-cp38-cp38-win_amd64.whl (14.3 MB)\n",
      "   ---------------------------------------- 0.0/14.3 MB ? eta -:--:--\n",
      "   -- ------------------------------------- 0.8/14.3 MB 8.5 MB/s eta 0:00:02\n",
      "   ---------- ----------------------------- 3.9/14.3 MB 14.7 MB/s eta 0:00:01\n",
      "   ------------------- -------------------- 7.1/14.3 MB 15.0 MB/s eta 0:00:01\n",
      "   ------------------------ --------------- 8.7/14.3 MB 13.4 MB/s eta 0:00:01\n",
      "   ---------------------------- ----------- 10.2/14.3 MB 10.6 MB/s eta 0:00:01\n",
      "   ------------------------------- -------- 11.3/14.3 MB 9.4 MB/s eta 0:00:01\n",
      "   --------------------------------- ------ 12.1/14.3 MB 8.9 MB/s eta 0:00:01\n",
      "   ------------------------------------ --- 13.1/14.3 MB 8.2 MB/s eta 0:00:01\n",
      "   ---------------------------------------  14.2/14.3 MB 7.7 MB/s eta 0:00:01\n",
      "   ---------------------------------------- 14.3/14.3 MB 7.5 MB/s eta 0:00:00\n",
      "Installing collected packages: mysql-connector-python\n",
      "Successfully installed mysql-connector-python-9.0.0\n"
     ]
    }
   ],
   "source": [
    "!pip install mysql-connector-python"
   ]
  },
  {
   "cell_type": "code",
   "execution_count": 6,
   "id": "64671c4b-ab38-4afa-9e63-543491fc28ee",
   "metadata": {},
   "outputs": [
    {
     "name": "stdout",
     "output_type": "stream",
     "text": [
      "Table successfully created\n"
     ]
    }
   ],
   "source": [
    "import mysql.connector\n",
    "connection = mysql.connector.connect(\n",
    "    host='localhost',\n",
    "    user='root',\n",
    "    passwd='admin',\n",
    "    database='demo1'\n",
    ")\n",
    "\n",
    "cursor = connection.cursor()\n",
    "qry='''\n",
    "    CREATE TABLE IF NOT EXISTS Employee(\n",
    "    EmpID INTEGER PRIMARY KEY AUTO_INCREMENT,\n",
    "    FIRST_NAME VARCHAR(20),\n",
    "    LAST_NAME VARCHAR(20),\n",
    "    AGE INTEGER,\n",
    "    GENDER VARCHAR(1),\n",
    "    INCOME FLOAT\n",
    "    )\n",
    "'''\n",
    "try:\n",
    "    cursor.execute(qry)\n",
    "    print('Table successfully created')\n",
    "except Exception as e:\n",
    "    print('Table creation failed',e)\n",
    "\n",
    "connection.close()"
   ]
  },
  {
   "cell_type": "code",
   "execution_count": 31,
   "id": "b3a26cad-469d-4875-9c3c-706178311b28",
   "metadata": {},
   "outputs": [
    {
     "name": "stdout",
     "output_type": "stream",
     "text": [
      "New Record Added\n"
     ]
    }
   ],
   "source": [
    "connection = mysql.connector.connect(\n",
    "    host='localhost',\n",
    "    user='root',\n",
    "    passwd='admin',\n",
    "    database='demo1'\n",
    ")\n",
    "\n",
    "cursor = connection.cursor()\n",
    "\n",
    "qry ='''\n",
    "    INSERT INTO Employee(FIRST_NAME, LAST_NAME, AGE, GENDER, INCOME)\n",
    "    VALUES (%s,%s,%s,%s,%s)'''\n",
    "\n",
    "data = [\n",
    "    ('Clark', 'Kent', 43, 'M', 2132213),\n",
    "    ('Bruce', 'Wayne', 23, 'M', 2312213)\n",
    "]\n",
    "\n",
    "try:\n",
    "    cursor.executemany(qry,data)\n",
    "    connection.commit()\n",
    "    print('New Record Added')\n",
    "except:\n",
    "    connection.rollback()\n",
    "    print('Error in the INSERT Querry')\n",
    "connection.close()"
   ]
  },
  {
   "cell_type": "code",
   "execution_count": 14,
   "id": "cd279c4e-9d52-4485-a65e-69ff941400b6",
   "metadata": {},
   "outputs": [
    {
     "name": "stdout",
     "output_type": "stream",
     "text": [
      "fname=Clark,lname=Kent, age=43, gender=M, income=2132210.0\n",
      "fname=Clark,lname=Kent, age=43, gender=M, income=2132210.0\n",
      "fname=Bruce,lname=Wayne, age=23, gender=M, income=2312210.0\n"
     ]
    }
   ],
   "source": [
    "connection = mysql.connector.connect(\n",
    "    host='localhost',\n",
    "    user='root',\n",
    "    passwd='admin',\n",
    "    database='demo1'\n",
    ")\n",
    "\n",
    "cursor = connection.cursor()\n",
    "\n",
    "qry = '''\n",
    "    SELECT * FROM Employee\n",
    "'''\n",
    "try:\n",
    "    cursor.execute(qry)\n",
    "    results = cursor.fetchall()\n",
    "    for col in results:\n",
    "        fname = col[1]\n",
    "        lname = col[2]\n",
    "        age = col[3]\n",
    "        gender = col[4]\n",
    "        income = col[5]\n",
    "        print('fname={},lname={}, age={}, gender={}, income={}'.format(fname,lname,age,gender,income))\n",
    "except Exception as e:\n",
    "    print(e)\n",
    "    print('Error in the Querry')\n",
    "connection.close()"
   ]
  },
  {
   "cell_type": "code",
   "execution_count": 17,
   "id": "d6969488-ff1e-4d2f-8923-f508ea2806dd",
   "metadata": {},
   "outputs": [
    {
     "name": "stdout",
     "output_type": "stream",
     "text": [
      "Record Updated\n"
     ]
    }
   ],
   "source": [
    "connection = mysql.connector.connect(\n",
    "    host='localhost',\n",
    "    user='root',\n",
    "    passwd='admin',\n",
    "    database='demo1'\n",
    ")\n",
    "\n",
    "cursor = connection.cursor()\n",
    "qry = '''\n",
    "    UPDATE Employee SET INCOME = INCOME +10000 where INCOME > %s\n",
    "'''\n",
    "\n",
    "try:\n",
    "    cursor.execute(qry,(400000,))\n",
    "    connection.commit()\n",
    "    print('Record Updated')\n",
    "except Exception as e:\n",
    "    print('Error: unable to update table',e)\n",
    "connection.close()"
   ]
  },
  {
   "cell_type": "code",
   "execution_count": 19,
   "id": "e2839cec-cadf-4d9b-8366-abf740a86a11",
   "metadata": {},
   "outputs": [
    {
     "name": "stdout",
     "output_type": "stream",
     "text": [
      "Record Deleted\n"
     ]
    }
   ],
   "source": [
    "connection = mysql.connector.connect(\n",
    "    host='localhost',\n",
    "    user='root',\n",
    "    passwd='admin',\n",
    "    database='demo1'\n",
    ")\n",
    "\n",
    "cursor = connection.cursor()\n",
    "\n",
    "qry = '''\n",
    "    DELETE FROM EMPLOYEE WHERE INCOME < %s\n",
    "'''\n",
    "\n",
    "try:\n",
    "    cursor.execute(qry,(22222222,))\n",
    "    connection.commit()\n",
    "    print('Record Deleted')\n",
    "except Exception as e:\n",
    "    print('Error: unable to delete record ',e)\n",
    "connection.close()"
   ]
  },
  {
   "cell_type": "code",
   "execution_count": 35,
   "id": "08b3674a-888a-44fc-9ad9-d6a7709c55c4",
   "metadata": {},
   "outputs": [
    {
     "name": "stdout",
     "output_type": "stream",
     "text": [
      "fname=Clark,lname=Kent\n",
      "fname=Bruce,lname=Wayne\n"
     ]
    }
   ],
   "source": [
    "connection = mysql.connector.connect(\n",
    "    host='localhost',\n",
    "    user='root',\n",
    "    passwd='admin',\n",
    "    database='demo1'\n",
    ")\n",
    "\n",
    "cursor = connection.cursor()\n",
    "\n",
    "qry = '''\n",
    "    SELECT FIRST_NAME, LAST_NAME\n",
    "    FROM Employee\n",
    "    WHERE INCOME <= %s;\n",
    "'''\n",
    "try:\n",
    "    cursor.execute(qry,(202000200,))\n",
    "    results = cursor.fetchall()\n",
    "    for col in results:\n",
    "        fname = col[0]\n",
    "        lname = col[1]\n",
    "        print('fname={},lname={}'.format(fname,lname))\n",
    "except Exception as e:\n",
    "    print(e)\n",
    "    print('Error in the Querry')\n",
    "connection.close()"
   ]
  },
  {
   "cell_type": "code",
   "execution_count": 38,
   "id": "49071bf6-9154-42de-a6f1-b2b58040033b",
   "metadata": {},
   "outputs": [
    {
     "name": "stdout",
     "output_type": "stream",
     "text": [
      "fname=Clark\n",
      "fname=Bruce\n"
     ]
    }
   ],
   "source": [
    "connection = mysql.connector.connect(\n",
    "    host='localhost',\n",
    "    user='root',\n",
    "    passwd='admin',\n",
    "    database='demo1'\n",
    ")\n",
    "\n",
    "cursor = connection.cursor()\n",
    "\n",
    "qry = '''\n",
    "    SELECT first_name\n",
    "    FROM employee \n",
    "    GROUP BY first_name\n",
    "    HAVING min(income)<%s; \n",
    "'''\n",
    "try:\n",
    "    cursor.execute(qry,(202000200,))\n",
    "    results = cursor.fetchall()\n",
    "    for col in results:\n",
    "        fname = col[0]\n",
    "        print('fname={}'.format(fname))\n",
    "except Exception as e:\n",
    "    print(e)\n",
    "    print('Error in the Querry')\n",
    "connection.close()"
   ]
  }
 ],
 "metadata": {
  "kernelspec": {
   "display_name": "Python 3 (ipykernel)",
   "language": "python",
   "name": "python3"
  },
  "language_info": {
   "codemirror_mode": {
    "name": "ipython",
    "version": 3
   },
   "file_extension": ".py",
   "mimetype": "text/x-python",
   "name": "python",
   "nbconvert_exporter": "python",
   "pygments_lexer": "ipython3",
   "version": "3.8.20"
  }
 },
 "nbformat": 4,
 "nbformat_minor": 5
}
