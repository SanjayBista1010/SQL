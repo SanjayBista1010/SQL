{
 "cells": [
  {
   "cell_type": "code",
   "execution_count": 1,
   "id": "8607c036-306e-4824-b454-d9b78144b45d",
   "metadata": {},
   "outputs": [
    {
     "name": "stdout",
     "output_type": "stream",
     "text": [
      "Table created successfully\n"
     ]
    }
   ],
   "source": [
    "import sqlite3 \n",
    "connection = sqlite3.connect('testdb.db')\n",
    "cursor = connection.cursor()\n",
    "\n",
    "qry='''\n",
    "CREATE TABLE IF NOT EXISTS Employee(\n",
    "  EmpID INTEGER PRIMARY KEY AUTOINCREMENT,\n",
    "  FIRST_NAME TEXT(20),\n",
    "  LAST_NAME TEXT(20),\n",
    "  AGE INTEGER,\n",
    "  GENDER TEXT(1),\n",
    "  INCOME FLOAT\n",
    ")\n",
    "'''\n",
    "try:\n",
    "    cursor.execute(qry)\n",
    "    print('Table created successfully')\n",
    "except:\n",
    "    print('Error in creating table')\n",
    "connection.close()"
   ]
  },
  {
   "cell_type": "code",
   "execution_count": 22,
   "id": "b678f4de-7006-4edc-8901-71a4a79c1ca2",
   "metadata": {},
   "outputs": [
    {
     "name": "stdout",
     "output_type": "stream",
     "text": [
      "New Record Added\n"
     ]
    }
   ],
   "source": [
    "connection = sqlite3.connect('testdb.db')\n",
    "cursor = connection.cursor()\n",
    "qry = '''\n",
    "    INSERT INTO Employee(FIRST_NAME, LAST_NAME, AGE, GENDER, INCOME)\n",
    "    VALUES ('Bruce','Wyane',44,'M',40404040)\n",
    "'''\n",
    "try:\n",
    "    cursor.execute(qry)\n",
    "    connection.commit()\n",
    "    print('New Record Added')\n",
    "except:\n",
    "    connection.rollback()\n",
    "    print('Error in the INSERT Querry')\n",
    "connection.close()"
   ]
  },
  {
   "cell_type": "code",
   "execution_count": 23,
   "id": "794d5ac4-2089-4557-9061-4cf22fb10f76",
   "metadata": {},
   "outputs": [
    {
     "name": "stdout",
     "output_type": "stream",
     "text": [
      "New Record Added\n"
     ]
    }
   ],
   "source": [
    "connection = sqlite3.connect('testdb.db')\n",
    "cursor = connection.cursor()\n",
    "qry ='''\n",
    "    INSERT INTO Employee(FIRST_NAME, LAST_NAME, AGE, GENDER, INCOME)\n",
    "    VALUES (?,?,?,?,?)'''\n",
    "try:\n",
    "    cursor.execute(qry,('Clark','Kent',43,'M',2132213))\n",
    "    connection.commit()\n",
    "    print('New Record Added')\n",
    "except:\n",
    "    connection.rollback()\n",
    "    print('Error in the INSERT Querry')\n",
    "connection.close()"
   ]
  },
  {
   "cell_type": "code",
   "execution_count": 40,
   "id": "43b464aa-b64f-4532-a5cb-b28bf5d40613",
   "metadata": {},
   "outputs": [
    {
     "name": "stdout",
     "output_type": "stream",
     "text": [
      "fname=Bruce,lname=Wyane, age=44, gender=M, income=40414040.0\n",
      "fname=Bruce,lname=Wyane, age=44, gender=M, income=40414040.0\n",
      "fname=Bruce,lname=Wyane, age=44, gender=M, income=40414040.0\n",
      "fname=Bruce,lname=Wyane, age=44, gender=M, income=40414040.0\n",
      "fname=Bruce,lname=Wyane, age=44, gender=M, income=40414040.0\n",
      "fname=Bruce,lname=Wyane, age=44, gender=M, income=40414040.0\n",
      "fname=Bruce,lname=Wyane, age=44, gender=M, income=40414040.0\n"
     ]
    }
   ],
   "source": [
    "connection = sqlite3.connect('testdb.db')\n",
    "cursor = connection.cursor()\n",
    "qry = '''\n",
    "SELECT * FROM Employee\n",
    "'''\n",
    "try:\n",
    "    cursor.execute(qry)\n",
    "    results = cursor.fetchall()\n",
    "    for col in results:\n",
    "        fname = col[1]\n",
    "        lname = col[2]\n",
    "        age = col[3]\n",
    "        gender = col[4]\n",
    "        income = col[5]\n",
    "        print('fname={},lname={}, age={}, gender={}, income={}'.format(fname,lname,age,gender,income))\n",
    "except Exception as e:\n",
    "    print(e)\n",
    "    print('Error in the Querry')\n",
    "connection.close()"
   ]
  },
  {
   "cell_type": "code",
   "execution_count": 35,
   "id": "b3c80966-6223-4197-8b1b-d99386d5d93e",
   "metadata": {},
   "outputs": [
    {
     "name": "stdout",
     "output_type": "stream",
     "text": [
      "Record Updated\n"
     ]
    }
   ],
   "source": [
    "connection = sqlite3.connect('testdb.db')\n",
    "cursor = connection.cursor()\n",
    "qry = '''\n",
    "    UPDATE Employee SET INCOME = INCOME +10000 where INCOME>?\n",
    "'''\n",
    "\n",
    "try:\n",
    "    cursor.execute(qry,(400000,))\n",
    "    connection.commit()\n",
    "    print('Record Updated')\n",
    "except Exception as e:\n",
    "    print('Error: unable to update table',e)\n",
    "connection.close()"
   ]
  },
  {
   "cell_type": "code",
   "execution_count": 37,
   "id": "998bbceb-9146-4594-b718-fe7203f487d2",
   "metadata": {},
   "outputs": [
    {
     "name": "stdout",
     "output_type": "stream",
     "text": [
      "   EmpID FIRST_NAME LAST_NAME  AGE GENDER      INCOME\n",
      "0      1      Bruce     Wyane   44      M  40414040.0\n",
      "1      2      Clark      Kent   43      M   2142213.0\n",
      "2      3      Bruce     Wyane   44      M  40414040.0\n",
      "3      4      Bruce     Wyane   44      M  40414040.0\n",
      "4      5      Bruce     Wyane   44      M  40414040.0\n",
      "5      6      Bruce     Wyane   44      M  40414040.0\n",
      "6      7      Clark      Kent   43      M   2142213.0\n",
      "7      8      Bruce     Wyane   44      M  40414040.0\n",
      "8      9      Bruce     Wyane   44      M  40414040.0\n",
      "9     10      Clark      Kent   43      M   2142213.0\n"
     ]
    }
   ],
   "source": [
    "import pandas as pd\n",
    "connection = sqlite3.connect('testdb.db')\n",
    "cursor = connection.cursor()\n",
    "\n",
    "df = pd.read_sql_query(qry, connection)\n",
    "print(df)"
   ]
  },
  {
   "cell_type": "code",
   "execution_count": 39,
   "id": "885293f7-e29b-4b19-aca8-8813eb5f1b17",
   "metadata": {},
   "outputs": [
    {
     "name": "stdout",
     "output_type": "stream",
     "text": [
      "Record Deleted\n"
     ]
    }
   ],
   "source": [
    "connection = sqlite3.connect('testdb.db')\n",
    "cursor = connection.cursor()\n",
    "qry = '''\n",
    "    DELETE FROM EMPLOYEE WHERE INCOME < ?\n",
    "'''\n",
    "\n",
    "try:\n",
    "    cursor.execute(qry,(22222222,))\n",
    "    connection.commit()\n",
    "    print('Record Deleted')\n",
    "except Exception as e:\n",
    "    print('Error: unable to delete record ',e)\n",
    "connection.close()"
   ]
  }
 ],
 "metadata": {
  "kernelspec": {
   "display_name": "Python 3 (ipykernel)",
   "language": "python",
   "name": "python3"
  },
  "language_info": {
   "codemirror_mode": {
    "name": "ipython",
    "version": 3
   },
   "file_extension": ".py",
   "mimetype": "text/x-python",
   "name": "python",
   "nbconvert_exporter": "python",
   "pygments_lexer": "ipython3",
   "version": "3.8.20"
  }
 },
 "nbformat": 4,
 "nbformat_minor": 5
}
